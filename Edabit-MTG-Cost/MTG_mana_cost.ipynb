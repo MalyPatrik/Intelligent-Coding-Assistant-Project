{
 "cells": [
  {
   "cell_type": "code",
   "execution_count": 1,
   "id": "75a141de-a2de-42a9-ba06-e00feaa13c91",
   "metadata": {
    "tags": []
   },
   "outputs": [
    {
     "name": "stdout",
     "output_type": "stream",
     "text": [
      "mana_count: {'W': 2, 'U': 0, 'B': 0, 'R': 1, 'G': 2, 'C': 0}, type: <class 'dict'>\n",
      "mana_count: {'W': 2, 'U': 0, 'B': 0, 'R': 0, 'G': 1, 'C': 0}, type: <class 'dict'>\n",
      "required_mana_counts: {'W': 2, 'U': 0, 'B': 0, 'R': 0, 'G': 1, 'C': 0, 'generic_mana': 2}, type: <class 'dict'>\n",
      "can_pay: True, type: <class 'bool'>\n",
      "Result: True\n"
     ]
    }
   ],
   "source": [
    "import re\n",
    "\n",
    "def can_pay_cost(mana_pool: str, mana_cost: str) -> bool:\n",
    "    mana_pool_count = initialize_mana_count(mana_pool)\n",
    "    required_mana_counts = parse_mana_cost(mana_cost)\n",
    "    result = compare_mana_counts(mana_pool_count, required_mana_counts)\n",
    "    return result\n",
    "\n",
    "def initialize_mana_count(mana_pool: str):\n",
    "    mana_count = {'W': 0, 'U': 0, 'B': 0, 'R': 0, 'G': 0, 'C': 0}\n",
    "    for mana in mana_pool:\n",
    "        mana_count[mana] += 1\n",
    "    print(f\"mana_count: {mana_count}, type: {type(mana_count)}\")\n",
    "    return mana_count\n",
    "\n",
    "def parse_mana_cost(mana_cost: str):\n",
    "    generic_mana = int(re.search(r'\\d+', mana_cost).group() or 0)\n",
    "    mana_cost = re.sub(r'\\d+', '', mana_cost)\n",
    "    required_mana_counts = initialize_mana_count(mana_cost)\n",
    "    required_mana_counts['generic_mana'] = generic_mana\n",
    "    print(f\"required_mana_counts: {required_mana_counts}, type: {type(required_mana_counts)}\")\n",
    "    return required_mana_counts\n",
    "\n",
    "def compare_mana_counts(mana_pool_count: dict, required_mana_counts: dict):\n",
    "    total_mana_pool = sum(mana_pool_count.values())\n",
    "    total_required_mana = required_mana_counts['generic_mana'] + sum(required_mana_counts.values()) - required_mana_counts['generic_mana']\n",
    "    can_pay = total_mana_pool >= total_required_mana\n",
    "    for mana_type in 'WUBRGC':\n",
    "        if mana_pool_count[mana_type] < required_mana_counts[mana_type]:\n",
    "            can_pay = False\n",
    "            break\n",
    "    print(f\"can_pay: {can_pay}, type: {type(can_pay)}\")\n",
    "    return can_pay\n",
    "\n",
    "def main():\n",
    "    result = can_pay_cost(\"WWGGR\", \"2WWG\")\n",
    "    print(f\"Result: {result}\")\n",
    "\n",
    "if __name__ == \"__main__\":\n",
    "    main()\n"
   ]
  },
  {
   "cell_type": "code",
   "execution_count": null,
   "id": "50900084-bcc5-454e-8df4-b818920e0342",
   "metadata": {},
   "outputs": [],
   "source": []
  }
 ],
 "metadata": {
  "kernelspec": {
   "display_name": "Python 3 (ipykernel)",
   "language": "python",
   "name": "python3"
  },
  "language_info": {
   "codemirror_mode": {
    "name": "ipython",
    "version": 3
   },
   "file_extension": ".py",
   "mimetype": "text/x-python",
   "name": "python",
   "nbconvert_exporter": "python",
   "pygments_lexer": "ipython3",
   "version": "3.11.2"
  }
 },
 "nbformat": 4,
 "nbformat_minor": 5
}
