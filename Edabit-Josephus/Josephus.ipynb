{
 "cells": [
  {
   "cell_type": "code",
   "execution_count": 1,
   "id": "2d9256cc-7fdb-47e8-a411-2faa0efa1d31",
   "metadata": {
    "tags": []
   },
   "outputs": [
    {
     "name": "stdout",
     "output_type": "stream",
     "text": [
      "people: 5, type: <class 'int'>\n",
      "Valid input test passed\n",
      "people: -3, type: <class 'int'>\n",
      "Invalid input test passed\n"
     ]
    }
   ],
   "source": [
    "def validate_input(people):\n",
    "    \"\"\"This function checks if the input 'people' is a positive integer.\n",
    "    We use this function to ensure that the input provided is valid and meets the problem's requirements.\n",
    "    return: None\n",
    "    \"\"\"\n",
    "    # Print the function arguments\n",
    "    print(f\"people: {people}, type: {type(people)}\")\n",
    "    \n",
    "    if not isinstance(people, int) or people <= 0:\n",
    "        raise ValueError(\"Input must be a positive integer\")\n",
    "\n",
    "# Test the validate_input function\n",
    "try:\n",
    "    validate_input(5)\n",
    "    print(\"Valid input test passed\")\n",
    "except ValueError as e:\n",
    "    print(f\"Unexpected error: {e}\")\n",
    "\n",
    "try:\n",
    "    validate_input(-3)\n",
    "except ValueError as e:\n",
    "    print(\"Invalid input test passed\")\n"
   ]
  },
  {
   "cell_type": "code",
   "execution_count": 2,
   "id": "38c76d28-3eca-4272-8220-7088c8f3125e",
   "metadata": {
    "tags": []
   },
   "outputs": [],
   "source": [
    "def josephus(people):\n",
    "    print(f\"people: {people}, type: {type(people)}\")\n",
    "\n",
    "    if people == 1:\n",
    "        survivor_number = 1\n",
    "        print(f\"survivor_number: {survivor_number}, type: {type(survivor_number)}\")\n",
    "        return survivor_number\n",
    "\n",
    "    survivors = list(range(1, people + 1))\n",
    "    print(f\"survivors: {survivors}, type: {type(survivors)}, shape: {len(survivors)}\")\n",
    "\n",
    "    eliminated = 0\n",
    "    while len(survivors) > 1:\n",
    "        eliminated = (eliminated + 1) % len(survivors)\n",
    "        del survivors[eliminated]\n",
    "        print(f\"eliminated: {eliminated}, type: {type(eliminated)}\")\n",
    "        print(f\"survivors: {survivors}, type: {type(survivors)}, shape: {len(survivors)}\")\n",
    "\n",
    "    survivor_number = survivors[0]\n",
    "    print(f\"survivor_number: {survivor_number}, type: {type(survivor_number)}\")\n",
    "    return survivor_number\n"
   ]
  },
  {
   "cell_type": "code",
   "execution_count": 3,
   "id": "5491e816-a861-4778-98c7-762e2f9d1348",
   "metadata": {
    "tags": []
   },
   "outputs": [
    {
     "name": "stdout",
     "output_type": "stream",
     "text": [
      "people: 1, type: <class 'int'>\n",
      "survivor_number: 1, type: <class 'int'>\n",
      "people: 2, type: <class 'int'>\n",
      "survivors: [1, 2], type: <class 'list'>, shape: 2\n",
      "eliminated: 1, type: <class 'int'>\n",
      "survivors: [1], type: <class 'list'>, shape: 1\n",
      "survivor_number: 1, type: <class 'int'>\n",
      "people: 3, type: <class 'int'>\n",
      "survivors: [1, 2, 3], type: <class 'list'>, shape: 3\n",
      "eliminated: 1, type: <class 'int'>\n",
      "survivors: [1, 3], type: <class 'list'>, shape: 2\n",
      "eliminated: 0, type: <class 'int'>\n",
      "survivors: [3], type: <class 'list'>, shape: 1\n",
      "survivor_number: 3, type: <class 'int'>\n",
      "people: 4, type: <class 'int'>\n",
      "survivors: [1, 2, 3, 4], type: <class 'list'>, shape: 4\n",
      "eliminated: 1, type: <class 'int'>\n",
      "survivors: [1, 3, 4], type: <class 'list'>, shape: 3\n",
      "eliminated: 2, type: <class 'int'>\n",
      "survivors: [1, 3], type: <class 'list'>, shape: 2\n",
      "eliminated: 1, type: <class 'int'>\n",
      "survivors: [1], type: <class 'list'>, shape: 1\n",
      "survivor_number: 1, type: <class 'int'>\n",
      "people: 5, type: <class 'int'>\n",
      "survivors: [1, 2, 3, 4, 5], type: <class 'list'>, shape: 5\n",
      "eliminated: 1, type: <class 'int'>\n",
      "survivors: [1, 3, 4, 5], type: <class 'list'>, shape: 4\n",
      "eliminated: 2, type: <class 'int'>\n",
      "survivors: [1, 3, 5], type: <class 'list'>, shape: 3\n",
      "eliminated: 0, type: <class 'int'>\n",
      "survivors: [3, 5], type: <class 'list'>, shape: 2\n",
      "eliminated: 1, type: <class 'int'>\n",
      "survivors: [3], type: <class 'list'>, shape: 1\n",
      "survivor_number: 3, type: <class 'int'>\n",
      "people: 6, type: <class 'int'>\n",
      "survivors: [1, 2, 3, 4, 5, 6], type: <class 'list'>, shape: 6\n",
      "eliminated: 1, type: <class 'int'>\n",
      "survivors: [1, 3, 4, 5, 6], type: <class 'list'>, shape: 5\n",
      "eliminated: 2, type: <class 'int'>\n",
      "survivors: [1, 3, 5, 6], type: <class 'list'>, shape: 4\n",
      "eliminated: 3, type: <class 'int'>\n",
      "survivors: [1, 3, 5], type: <class 'list'>, shape: 3\n",
      "eliminated: 1, type: <class 'int'>\n",
      "survivors: [1, 5], type: <class 'list'>, shape: 2\n",
      "eliminated: 0, type: <class 'int'>\n",
      "survivors: [5], type: <class 'list'>, shape: 1\n",
      "survivor_number: 5, type: <class 'int'>\n",
      "people: 7, type: <class 'int'>\n",
      "survivors: [1, 2, 3, 4, 5, 6, 7], type: <class 'list'>, shape: 7\n",
      "eliminated: 1, type: <class 'int'>\n",
      "survivors: [1, 3, 4, 5, 6, 7], type: <class 'list'>, shape: 6\n",
      "eliminated: 2, type: <class 'int'>\n",
      "survivors: [1, 3, 5, 6, 7], type: <class 'list'>, shape: 5\n",
      "eliminated: 3, type: <class 'int'>\n",
      "survivors: [1, 3, 5, 7], type: <class 'list'>, shape: 4\n",
      "eliminated: 0, type: <class 'int'>\n",
      "survivors: [3, 5, 7], type: <class 'list'>, shape: 3\n",
      "eliminated: 1, type: <class 'int'>\n",
      "survivors: [3, 7], type: <class 'list'>, shape: 2\n",
      "eliminated: 0, type: <class 'int'>\n",
      "survivors: [7], type: <class 'list'>, shape: 1\n",
      "survivor_number: 7, type: <class 'int'>\n",
      "people: 10, type: <class 'int'>\n",
      "survivors: [1, 2, 3, 4, 5, 6, 7, 8, 9, 10], type: <class 'list'>, shape: 10\n",
      "eliminated: 1, type: <class 'int'>\n",
      "survivors: [1, 3, 4, 5, 6, 7, 8, 9, 10], type: <class 'list'>, shape: 9\n",
      "eliminated: 2, type: <class 'int'>\n",
      "survivors: [1, 3, 5, 6, 7, 8, 9, 10], type: <class 'list'>, shape: 8\n",
      "eliminated: 3, type: <class 'int'>\n",
      "survivors: [1, 3, 5, 7, 8, 9, 10], type: <class 'list'>, shape: 7\n",
      "eliminated: 4, type: <class 'int'>\n",
      "survivors: [1, 3, 5, 7, 9, 10], type: <class 'list'>, shape: 6\n",
      "eliminated: 5, type: <class 'int'>\n",
      "survivors: [1, 3, 5, 7, 9], type: <class 'list'>, shape: 5\n",
      "eliminated: 1, type: <class 'int'>\n",
      "survivors: [1, 5, 7, 9], type: <class 'list'>, shape: 4\n",
      "eliminated: 2, type: <class 'int'>\n",
      "survivors: [1, 5, 9], type: <class 'list'>, shape: 3\n",
      "eliminated: 0, type: <class 'int'>\n",
      "survivors: [5, 9], type: <class 'list'>, shape: 2\n",
      "eliminated: 1, type: <class 'int'>\n",
      "survivors: [5], type: <class 'list'>, shape: 1\n",
      "survivor_number: 5, type: <class 'int'>\n",
      "All tests passed.\n"
     ]
    }
   ],
   "source": [
    "def test_josephus():\n",
    "    assert josephus(1) == 1\n",
    "    assert josephus(2) == 1\n",
    "    assert josephus(3) == 3\n",
    "    assert josephus(4) == 1\n",
    "    assert josephus(5) == 3\n",
    "    assert josephus(6) == 5\n",
    "    assert josephus(7) == 7\n",
    "    assert josephus(10) == 5\n",
    "    print(\"All tests passed.\")\n",
    "\n",
    "test_josephus()\n"
   ]
  }
 ],
 "metadata": {
  "kernelspec": {
   "display_name": "Python 3 (ipykernel)",
   "language": "python",
   "name": "python3"
  },
  "language_info": {
   "codemirror_mode": {
    "name": "ipython",
    "version": 3
   },
   "file_extension": ".py",
   "mimetype": "text/x-python",
   "name": "python",
   "nbconvert_exporter": "python",
   "pygments_lexer": "ipython3",
   "version": "3.11.2"
  }
 },
 "nbformat": 4,
 "nbformat_minor": 5
}
