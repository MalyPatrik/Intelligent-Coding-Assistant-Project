{
 "cells": [
  {
   "cell_type": "code",
   "execution_count": 11,
   "id": "7c31ee76-70e1-4471-a7dd-ad0eaab0807b",
   "metadata": {
    "tags": []
   },
   "outputs": [
    {
     "name": "stdout",
     "output_type": "stream",
     "text": [
      "hand: ['10h', 'Jh', 'Qh', 'Kh', '9h'], type: <class 'list'>\n",
      "card: 10h, type: <class 'str'>\n",
      "value: 10, type: <class 'str'>, suit: h, type: <class 'str'>\n",
      "card: Jh, type: <class 'str'>\n",
      "value: J, type: <class 'str'>, suit: h, type: <class 'str'>\n",
      "card: Qh, type: <class 'str'>\n",
      "value: Q, type: <class 'str'>, suit: h, type: <class 'str'>\n",
      "card: Kh, type: <class 'str'>\n",
      "value: K, type: <class 'str'>, suit: h, type: <class 'str'>\n",
      "card: 9h, type: <class 'str'>\n",
      "value: 9, type: <class 'str'>, suit: h, type: <class 'str'>\n",
      "value_freq: {'10': 1, 'J': 1, 'Q': 1, 'K': 1, '9': 1}, type: <class 'dict'>\n",
      "suit_freq: {'h': 5}, type: <class 'dict'>\n",
      "card: 10h, type: <class 'str'>\n",
      "value: 10, type: <class 'str'>, suit: h, type: <class 'str'>\n",
      "card: Jh, type: <class 'str'>\n",
      "value: J, type: <class 'str'>, suit: h, type: <class 'str'>\n",
      "card: Qh, type: <class 'str'>\n",
      "value: Q, type: <class 'str'>, suit: h, type: <class 'str'>\n",
      "card: Kh, type: <class 'str'>\n",
      "value: K, type: <class 'str'>, suit: h, type: <class 'str'>\n",
      "card: 9h, type: <class 'str'>\n",
      "value: 9, type: <class 'str'>, suit: h, type: <class 'str'>\n",
      "consecutive_values: True, type: <class 'bool'>\n",
      "Straight Flush\n"
     ]
    }
   ],
   "source": [
    "def poker_hand_ranking(hand):\n",
    "    print(f\"hand: {hand}, type: {type(hand)}\")\n",
    "    \n",
    "    def extract_value_suit(card):\n",
    "        print(f\"card: {card}, type: {type(card)}\")\n",
    "        value, suit = card[:-1], card[-1]\n",
    "        print(f\"value: {value}, type: {type(value)}, suit: {suit}, type: {type(suit)}\")\n",
    "        return value, suit\n",
    "\n",
    "    def calculate_frequencies(hand):\n",
    "        value_freq = {}\n",
    "        suit_freq = {}\n",
    "        for card in hand:\n",
    "            value, suit = extract_value_suit(card)\n",
    "            value_freq[value] = value_freq.get(value, 0) + 1\n",
    "            suit_freq[suit] = suit_freq.get(suit, 0) + 1\n",
    "        print(f\"value_freq: {value_freq}, type: {type(value_freq)}\")\n",
    "        print(f\"suit_freq: {suit_freq}, type: {type(suit_freq)}\")\n",
    "        return value_freq, suit_freq\n",
    "\n",
    "    # Fix the has_consecutive_values function\n",
    "    def has_consecutive_values(hand):\n",
    "        value_order = \"23456789TJQKA\"\n",
    "        value_indices = sorted([value_order.index(extract_value_suit(card)[0].replace(\"10\", \"T\")) for card in hand])\n",
    "        for i in range(len(value_indices) - 1):\n",
    "            if value_indices[i + 1] - value_indices[i] != 1:\n",
    "                return False\n",
    "        return True\n",
    "\n",
    "    value_freq, suit_freq = calculate_frequencies(hand)\n",
    "    consecutive_values = has_consecutive_values(hand)\n",
    "    print(f\"consecutive_values: {consecutive_values}, type: {type(consecutive_values)}\")\n",
    "\n",
    "    # Check for each possible hand combination in descending order of importance\n",
    "    if consecutive_values and max(suit_freq.values()) == 5 and 'A' in value_freq and 'K' in value_freq:\n",
    "        return \"Royal Flush\"\n",
    "    elif consecutive_values and max(suit_freq.values()) == 5:\n",
    "        return \"Straight Flush\"\n",
    "    elif 4 in value_freq.values():\n",
    "        return \"Four of a Kind\"\n",
    "    elif 3 in value_freq.values() and 2 in value_freq.values():\n",
    "        return \"Full House\"\n",
    "    elif all(freq == 1 for freq in value_freq.values()) and max(suit_freq.values()) == 5:\n",
    "        return \"Flush\"\n",
    "    elif consecutive_values:\n",
    "        return \"Straight\"\n",
    "    elif 3 in value_freq.values():\n",
    "        return \"Three of a Kind\"\n",
    "    elif sum(1 for freq in value_freq.values() if freq == 2) == 2:\n",
    "        return \"Two Pair\"\n",
    "    elif 2 in value_freq.values():\n",
    "        return \"Pair\"\n",
    "    else:\n",
    "        return \"High Card\"\n",
    "\n",
    "test_hand = [\"10h\", \"Jh\", \"Qh\", \"Kh\", \"9h\"]\n",
    "print(poker_hand_ranking(test_hand))  # Expected output: \"Royal Flush\""
   ]
  },
  {
   "cell_type": "code",
   "execution_count": null,
   "id": "07a45476-9268-4bd0-835a-6d3d176289b8",
   "metadata": {},
   "outputs": [],
   "source": []
  }
 ],
 "metadata": {
  "kernelspec": {
   "display_name": "Python 3 (ipykernel)",
   "language": "python",
   "name": "python3"
  },
  "language_info": {
   "codemirror_mode": {
    "name": "ipython",
    "version": 3
   },
   "file_extension": ".py",
   "mimetype": "text/x-python",
   "name": "python",
   "nbconvert_exporter": "python",
   "pygments_lexer": "ipython3",
   "version": "3.11.2"
  }
 },
 "nbformat": 4,
 "nbformat_minor": 5
}
