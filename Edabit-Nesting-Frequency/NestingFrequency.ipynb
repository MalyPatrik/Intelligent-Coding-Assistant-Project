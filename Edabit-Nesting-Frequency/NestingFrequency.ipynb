{
 "cells": [
  {
   "cell_type": "code",
   "execution_count": 9,
   "id": "07d6703f-8f21-4d35-a942-ae5c1b07508f",
   "metadata": {
    "tags": []
   },
   "outputs": [
    {
     "name": "stdout",
     "output_type": "stream",
     "text": [
      "input_list: [1, 4, 4, [1, 1, [1, 2, 1, 1]]], type: <class 'list'>\n",
      "search_element: 1, type: <class 'int'>\n",
      "nesting_level: 0, type: <class 'int'>\n",
      "counts: {0: 0}, type: <class 'dict'>\n",
      "item: 1, type: <class 'int'>\n",
      "item: 4, type: <class 'int'>\n",
      "item: 4, type: <class 'int'>\n",
      "item: [1, 1, [1, 2, 1, 1]], type: <class 'list'>\n",
      "input_list: [1, 1, [1, 2, 1, 1]], type: <class 'list'>\n",
      "search_element: 1, type: <class 'int'>\n",
      "nesting_level: 1, type: <class 'int'>\n",
      "counts: {1: 0}, type: <class 'dict'>\n",
      "item: 1, type: <class 'int'>\n",
      "item: 1, type: <class 'int'>\n",
      "item: [1, 2, 1, 1], type: <class 'list'>\n",
      "input_list: [1, 2, 1, 1], type: <class 'list'>\n",
      "search_element: 1, type: <class 'int'>\n",
      "nesting_level: 2, type: <class 'int'>\n",
      "counts: {2: 0}, type: <class 'dict'>\n",
      "item: 1, type: <class 'int'>\n",
      "item: 2, type: <class 'int'>\n",
      "item: 1, type: <class 'int'>\n",
      "item: 1, type: <class 'int'>\n",
      "counts (return): {2: 3}, type: <class 'dict'>\n",
      "counts (return): {1: 2, 2: 3}, type: <class 'dict'>\n",
      "counts (return): {0: 1, 1: 2, 2: 3}, type: <class 'dict'>\n",
      "Result: {0: 1, 1: 2, 2: 3}\n"
     ]
    }
   ],
   "source": [
    "def count_elements(input_list, search_element, nesting_level):\n",
    "    print(f\"input_list: {input_list}, type: {type(input_list)}\")\n",
    "    print(f\"search_element: {search_element}, type: {type(search_element)}\")\n",
    "    print(f\"nesting_level: {nesting_level}, type: {type(nesting_level)}\")\n",
    "\n",
    "    counts = {nesting_level: 0}  # Initialize the count for the current nesting level to 0\n",
    "    print(f\"counts: {counts}, type: {type(counts)}\")\n",
    "\n",
    "    for item in input_list:\n",
    "        print(f\"item: {item}, type: {type(item)}\")\n",
    "        if isinstance(item, list):\n",
    "            nested_counts = count_elements(item, search_element, nesting_level + 1)\n",
    "            for level, count in nested_counts.items():\n",
    "                counts[level] = counts.get(level, 0) + count\n",
    "        elif item == search_element:\n",
    "            counts[nesting_level] = counts.get(nesting_level, 0) + 1\n",
    "\n",
    "    print(f\"counts (return): {counts}, type: {type(counts)}\")\n",
    "    return counts\n",
    "\n",
    "\n",
    "\n",
    "# Test\n",
    "test_list = [1, 4, 4, [1, 1, [1, 2, 1, 1]]]\n",
    "search_element = 1\n",
    "result = count_elements(test_list, search_element, 0)\n",
    "print(\"Result:\", result)\n"
   ]
  },
  {
   "cell_type": "code",
   "execution_count": 10,
   "id": "6bff6b78-9dc6-4535-a285-1a424890b9c2",
   "metadata": {
    "tags": []
   },
   "outputs": [
    {
     "name": "stdout",
     "output_type": "stream",
     "text": [
      "nested_list: [1, 5, 5, [5, [1, 2, 1, 1], 5, 5], 5, [5]], type: <class 'list'>\n",
      "search_element: 5, type: <class 'int'>\n",
      "input_list: [1, 5, 5, [5, [1, 2, 1, 1], 5, 5], 5, [5]], type: <class 'list'>\n",
      "search_element: 5, type: <class 'int'>\n",
      "nesting_level: 0, type: <class 'int'>\n",
      "counts: {0: 0}, type: <class 'dict'>\n",
      "item: 1, type: <class 'int'>\n",
      "item: 5, type: <class 'int'>\n",
      "item: 5, type: <class 'int'>\n",
      "item: [5, [1, 2, 1, 1], 5, 5], type: <class 'list'>\n",
      "input_list: [5, [1, 2, 1, 1], 5, 5], type: <class 'list'>\n",
      "search_element: 5, type: <class 'int'>\n",
      "nesting_level: 1, type: <class 'int'>\n",
      "counts: {1: 0}, type: <class 'dict'>\n",
      "item: 5, type: <class 'int'>\n",
      "item: [1, 2, 1, 1], type: <class 'list'>\n",
      "input_list: [1, 2, 1, 1], type: <class 'list'>\n",
      "search_element: 5, type: <class 'int'>\n",
      "nesting_level: 2, type: <class 'int'>\n",
      "counts: {2: 0}, type: <class 'dict'>\n",
      "item: 1, type: <class 'int'>\n",
      "item: 2, type: <class 'int'>\n",
      "item: 1, type: <class 'int'>\n",
      "item: 1, type: <class 'int'>\n",
      "counts (return): {2: 0}, type: <class 'dict'>\n",
      "item: 5, type: <class 'int'>\n",
      "item: 5, type: <class 'int'>\n",
      "counts (return): {1: 3, 2: 0}, type: <class 'dict'>\n",
      "item: 5, type: <class 'int'>\n",
      "item: [5], type: <class 'list'>\n",
      "input_list: [5], type: <class 'list'>\n",
      "search_element: 5, type: <class 'int'>\n",
      "nesting_level: 1, type: <class 'int'>\n",
      "counts: {1: 0}, type: <class 'dict'>\n",
      "item: 5, type: <class 'int'>\n",
      "counts (return): {1: 1}, type: <class 'dict'>\n",
      "counts (return): {0: 3, 1: 4, 2: 0}, type: <class 'dict'>\n",
      "counts_dict: {0: 3, 1: 4, 2: 0}, type: <class 'dict'>\n",
      "max_depth: 3, type: <class 'int'>\n",
      "result: [[0, 3], [1, 4], [2, 0]], type: <class 'list'>\n",
      "[[0, 3], [1, 4], [2, 0]]\n"
     ]
    }
   ],
   "source": [
    "def freq_count(nested_list, search_element):\n",
    "    print(f\"nested_list: {nested_list}, type: {type(nested_list)}\")\n",
    "    print(f\"search_element: {search_element}, type: {type(search_element)}\")\n",
    "    \n",
    "    counts_dict = count_elements(nested_list, search_element, 0)\n",
    "    print(f\"counts_dict: {counts_dict}, type: {type(counts_dict)}\")\n",
    "    \n",
    "    max_depth = max(counts_dict.keys(), default=-1) + 1\n",
    "    print(f\"max_depth: {max_depth}, type: {type(max_depth)}\")\n",
    "    \n",
    "    result = [[level, counts_dict.get(level, 0)] for level in range(max_depth)]\n",
    "    print(f\"result: {result}, type: {type(result)}\")\n",
    "    \n",
    "    return result\n",
    "\n",
    "# Test\n",
    "output = freq_count([1, 5, 5, [5, [1, 2, 1, 1], 5, 5], 5, [5]], 5)\n",
    "print(output)  # Expected output: [[0, 3], [1, 4], [2, 0]]"
   ]
  },
  {
   "cell_type": "code",
   "execution_count": 3,
   "id": "b467e5e5-69b8-4b26-85b1-c45a5070f904",
   "metadata": {
    "tags": []
   },
   "outputs": [
    {
     "name": "stdout",
     "output_type": "stream",
     "text": [
      "nested_list: [1, 4, 4, [1, 1, [1, 2, 1, 1]]], type: <class 'list'>\n",
      "search_element: 1, type: <class 'int'>\n",
      "input_list: [1, 4, 4, [1, 1, [1, 2, 1, 1]]], type: <class 'list'>\n",
      "search_element: 1, type: <class 'int'>\n",
      "nesting_level: 0, type: <class 'int'>\n",
      "counts: {}, type: <class 'dict'>\n",
      "input_list: [1, 1, [1, 2, 1, 1]], type: <class 'list'>\n",
      "search_element: 1, type: <class 'int'>\n",
      "nesting_level: 1, type: <class 'int'>\n",
      "counts: {}, type: <class 'dict'>\n",
      "input_list: [1, 2, 1, 1], type: <class 'list'>\n",
      "search_element: 1, type: <class 'int'>\n",
      "nesting_level: 2, type: <class 'int'>\n",
      "counts: {}, type: <class 'dict'>\n",
      "counts (return): {2: 3}, type: <class 'dict'>\n",
      "counts (return): {1: 2, 2: 3}, type: <class 'dict'>\n",
      "counts (return): {0: 1, 1: 2, 2: 3}, type: <class 'dict'>\n",
      "counts_dict: {0: 1, 1: 2, 2: 3}, type: <class 'dict'>\n",
      "max_depth: 3, type: <class 'int'>\n",
      "result: [[0, 1], [1, 2], [2, 3]], type: <class 'list'>\n",
      "[[0, 1], [1, 2], [2, 3]]\n"
     ]
    }
   ],
   "source": [
    "# Test\n",
    "output = freq_count([1, 4, 4, [1, 1, [1, 2, 1, 1]]], 1)\n",
    "print(output)  # Expected output: [[0, 1], [1, 2], [2, 3]]"
   ]
  },
  {
   "cell_type": "code",
   "execution_count": null,
   "id": "0773a09c-6392-45ef-ad4c-120cea9a1c5f",
   "metadata": {},
   "outputs": [],
   "source": []
  }
 ],
 "metadata": {
  "kernelspec": {
   "display_name": "Python 3 (ipykernel)",
   "language": "python",
   "name": "python3"
  },
  "language_info": {
   "codemirror_mode": {
    "name": "ipython",
    "version": 3
   },
   "file_extension": ".py",
   "mimetype": "text/x-python",
   "name": "python",
   "nbconvert_exporter": "python",
   "pygments_lexer": "ipython3",
   "version": "3.11.2"
  }
 },
 "nbformat": 4,
 "nbformat_minor": 5
}
